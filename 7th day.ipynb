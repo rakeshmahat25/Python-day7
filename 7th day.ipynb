{
 "cells": [
  {
   "cell_type": "markdown",
   "id": "98c3aab6",
   "metadata": {},
   "source": [
    "# input() function "
   ]
  },
  {
   "cell_type": "code",
   "execution_count": 3,
   "id": "ea9a71de",
   "metadata": {},
   "outputs": [
    {
     "name": "stdout",
     "output_type": "stream",
     "text": [
      "What is your Name:rakes\n"
     ]
    },
    {
     "data": {
      "text/plain": [
       "'rakes'"
      ]
     },
     "execution_count": 3,
     "metadata": {},
     "output_type": "execute_result"
    }
   ],
   "source": [
    "name = input(\"What is your Name:\")\n",
    "name"
   ]
  },
  {
   "cell_type": "code",
   "execution_count": 1,
   "id": "9ed8cff2",
   "metadata": {},
   "outputs": [
    {
     "name": "stdout",
     "output_type": "stream",
     "text": [
      "First Number :44\n",
      "Second Number:22\n"
     ]
    }
   ],
   "source": [
    "a = int(input(\"First Number :\"))\n",
    "\n",
    "b = int(input(\"Second Number:\"))\n",
    "sum1 =a+b"
   ]
  },
  {
   "cell_type": "code",
   "execution_count": 4,
   "id": "e03c16c9",
   "metadata": {},
   "outputs": [
    {
     "name": "stdout",
     "output_type": "stream",
     "text": [
      "The sum of the 44 and 22 : 66\n"
     ]
    }
   ],
   "source": [
    "print(f\"The sum of the {a} and {b} : {sum1}\")"
   ]
  },
  {
   "cell_type": "code",
   "execution_count": 3,
   "id": "a4b423c4",
   "metadata": {},
   "outputs": [
    {
     "name": "stdout",
     "output_type": "stream",
     "text": [
      "22\n",
      "66\n"
     ]
    }
   ],
   "source": [
    "print(a-b)\n",
    "print(a+b)"
   ]
  },
  {
   "cell_type": "code",
   "execution_count": 7,
   "id": "bebab8f3",
   "metadata": {},
   "outputs": [
    {
     "name": "stdout",
     "output_type": "stream",
     "text": [
      "44+22=66\n"
     ]
    }
   ],
   "source": [
    "print(f\"{a}+{b}={a }\")"
   ]
  },
  {
   "cell_type": "code",
   "execution_count": 5,
   "id": "369a3a1c",
   "metadata": {},
   "outputs": [
    {
     "name": "stdout",
     "output_type": "stream",
     "text": [
      "2.0\n"
     ]
    }
   ],
   "source": [
    "print(a/b)"
   ]
  },
  {
   "cell_type": "code",
   "execution_count": 6,
   "id": "ec2fbaba",
   "metadata": {},
   "outputs": [
    {
     "data": {
      "text/plain": [
       "2"
      ]
     },
     "execution_count": 6,
     "metadata": {},
     "output_type": "execute_result"
    }
   ],
   "source": [
    "int(a/b)"
   ]
  },
  {
   "cell_type": "markdown",
   "id": "be7d1c1a",
   "metadata": {},
   "source": [
    "# LOOP "
   ]
  },
  {
   "cell_type": "code",
   "execution_count": 8,
   "id": "928942a3",
   "metadata": {},
   "outputs": [],
   "source": [
    "numbers = [22,32,12,43,53,33,3]\n"
   ]
  },
  {
   "cell_type": "code",
   "execution_count": 9,
   "id": "24d5b167",
   "metadata": {},
   "outputs": [
    {
     "name": "stdout",
     "output_type": "stream",
     "text": [
      "22\n",
      "32\n",
      "12\n",
      "43\n",
      "53\n",
      "33\n",
      "3\n"
     ]
    }
   ],
   "source": [
    "for number in numbers:\n",
    "    print(number)"
   ]
  },
  {
   "cell_type": "code",
   "execution_count": 12,
   "id": "03f9eead",
   "metadata": {},
   "outputs": [],
   "source": [
    "names =[\"Hari\", \"Ram\", \"Shyam\",\"Sabi\"]"
   ]
  },
  {
   "cell_type": "code",
   "execution_count": 13,
   "id": "b92e41dd",
   "metadata": {},
   "outputs": [
    {
     "name": "stdout",
     "output_type": "stream",
     "text": [
      "Hari\n",
      "Ram\n",
      "Shyam\n",
      "Sabi\n"
     ]
    }
   ],
   "source": [
    "for name in names:\n",
    "    print(name)"
   ]
  },
  {
   "cell_type": "code",
   "execution_count": 15,
   "id": "3251906f",
   "metadata": {},
   "outputs": [
    {
     "ename": "TypeError",
     "evalue": "'type' object is not iterable",
     "output_type": "error",
     "traceback": [
      "\u001b[1;31m---------------------------------------------------------------------------\u001b[0m",
      "\u001b[1;31mTypeError\u001b[0m                                 Traceback (most recent call last)",
      "\u001b[1;32m~\\AppData\\Local\\Temp/ipykernel_4056/1443247376.py\u001b[0m in \u001b[0;36m<module>\u001b[1;34m\u001b[0m\n\u001b[0;32m      1\u001b[0m \u001b[1;31m#indentation main important\u001b[0m\u001b[1;33m\u001b[0m\u001b[1;33m\u001b[0m\u001b[0m\n\u001b[0;32m      2\u001b[0m \u001b[1;33m\u001b[0m\u001b[0m\n\u001b[1;32m----> 3\u001b[1;33m \u001b[1;32mfor\u001b[0m \u001b[0mi\u001b[0m \u001b[1;32min\u001b[0m \u001b[0mrange\u001b[0m\u001b[1;33m:\u001b[0m\u001b[1;33m\u001b[0m\u001b[1;33m\u001b[0m\u001b[0m\n\u001b[0m\u001b[0;32m      4\u001b[0m     \u001b[1;32mfor\u001b[0m \u001b[0mi\u001b[0m \u001b[1;32min\u001b[0m \u001b[0mj\u001b[0m\u001b[1;33m:\u001b[0m\u001b[1;33m\u001b[0m\u001b[1;33m\u001b[0m\u001b[0m\n\u001b[0;32m      5\u001b[0m         \u001b[0mprint\u001b[0m\u001b[1;33m(\u001b[0m\u001b[0mi\u001b[0m\u001b[1;33m)\u001b[0m\u001b[1;33m\u001b[0m\u001b[1;33m\u001b[0m\u001b[0m\n",
      "\u001b[1;31mTypeError\u001b[0m: 'type' object is not iterable"
     ]
    }
   ],
   "source": [
    "#indentation main important\n",
    "\n",
    "for i in range:\n",
    "    for i in j:\n",
    "        print(i)"
   ]
  },
  {
   "cell_type": "code",
   "execution_count": 16,
   "id": "248a68b9",
   "metadata": {},
   "outputs": [
    {
     "name": "stdout",
     "output_type": "stream",
     "text": [
      "Hari\n",
      "Ram\n",
      "['shyam']\n"
     ]
    }
   ],
   "source": [
    "for name in [\"Hari\",\"Ram\",[\"shyam\"]]:\n",
    "    print(name)"
   ]
  },
  {
   "cell_type": "code",
   "execution_count": 17,
   "id": "64b33efe",
   "metadata": {},
   "outputs": [],
   "source": [
    "# left inclusive , right exclusive"
   ]
  },
  {
   "cell_type": "code",
   "execution_count": 18,
   "id": "5df39a1f",
   "metadata": {},
   "outputs": [
    {
     "data": {
      "text/plain": [
       "[0, 1, 2, 3, 4, 5, 6, 7, 8, 9]"
      ]
     },
     "execution_count": 18,
     "metadata": {},
     "output_type": "execute_result"
    }
   ],
   "source": [
    "list(range(10))"
   ]
  },
  {
   "cell_type": "code",
   "execution_count": 21,
   "id": "da1b92da",
   "metadata": {},
   "outputs": [
    {
     "name": "stdout",
     "output_type": "stream",
     "text": [
      "1 Hello \n",
      "2 Hello \n",
      "3 Hello \n",
      "4 Hello \n",
      "5 Hello \n",
      "6 Hello \n",
      "7 Hello \n",
      "8 Hello \n",
      "9 Hello \n",
      "10 Hello \n"
     ]
    }
   ],
   "source": [
    "for i in range(1,11):\n",
    "    print(f\"{i} Hello \")"
   ]
  },
  {
   "cell_type": "code",
   "execution_count": 22,
   "id": "4f0f9ba2",
   "metadata": {},
   "outputs": [
    {
     "name": "stdout",
     "output_type": "stream",
     "text": [
      "Name :Hari\n",
      "Hari\n",
      "\n",
      "Name :Ram\n",
      "Ram\n",
      "\n",
      "Name :Shyam\n",
      "Shyam\n",
      "\n",
      "Name :Sabi\n",
      "Sabi\n",
      "\n"
     ]
    }
   ],
   "source": [
    "for name in names:\n",
    "    print(f\"Name :{name}\")\n",
    "    print(name)\n",
    "    print(f\"\")"
   ]
  },
  {
   "cell_type": "code",
   "execution_count": 31,
   "id": "cbb5a09c",
   "metadata": {},
   "outputs": [
    {
     "name": "stdout",
     "output_type": "stream",
     "text": [
      "4*1=4\n",
      "4*2=8\n",
      "4*3=12\n",
      "4*4=16\n",
      "4*5=20\n",
      "4*6=24\n",
      "4*7=28\n",
      "4*8=32\n",
      "4*9=36\n",
      "4*10=40\n",
      "4*11=44\n",
      "4*12=48\n",
      "4*13=52\n",
      "4*14=56\n",
      "4*15=60\n",
      "4*16=64\n",
      "4*17=68\n",
      "4*18=72\n",
      "4*19=76\n",
      "4*20=80\n"
     ]
    }
   ],
   "source": [
    "# range function (0-20) \n",
    "# print(times 4)\n",
    "\n",
    "for number in range(1,21):\n",
    "    print(f\"4*{number}={number*4}\")\n"
   ]
  },
  {
   "cell_type": "code",
   "execution_count": 32,
   "id": "e73a153a",
   "metadata": {},
   "outputs": [],
   "source": [
    "# Iterating over dictionary"
   ]
  },
  {
   "cell_type": "code",
   "execution_count": 44,
   "id": "0cb0e9eb",
   "metadata": {},
   "outputs": [],
   "source": [
    "fruits = {\"Apple\":1, \"Banana\":2, \"Gava\":3, \"lem\":4}"
   ]
  },
  {
   "cell_type": "code",
   "execution_count": 46,
   "id": "5bce8cc8",
   "metadata": {},
   "outputs": [
    {
     "name": "stdout",
     "output_type": "stream",
     "text": [
      "Apple\n",
      "Banana\n",
      "Gava\n",
      "lem\n"
     ]
    }
   ],
   "source": [
    "for fruit in fruits:\n",
    "    print(fruit)"
   ]
  },
  {
   "cell_type": "code",
   "execution_count": 36,
   "id": "99aeee68",
   "metadata": {},
   "outputs": [
    {
     "name": "stdout",
     "output_type": "stream",
     "text": [
      "1\n",
      "2\n",
      "3\n"
     ]
    }
   ],
   "source": [
    "for fruit in fruits.values():\n",
    "    print(fruit)"
   ]
  },
  {
   "cell_type": "code",
   "execution_count": 47,
   "id": "d9eb6b0c",
   "metadata": {},
   "outputs": [],
   "source": [
    "#unpacking "
   ]
  },
  {
   "cell_type": "code",
   "execution_count": 48,
   "id": "7b47343a",
   "metadata": {},
   "outputs": [
    {
     "name": "stdout",
     "output_type": "stream",
     "text": [
      "apple 1 23\n",
      "banana 1 23\n",
      "guava 10 23\n",
      "mango 5 23\n"
     ]
    }
   ],
   "source": [
    "a = [('apple', 1, 23), ('banana', 1, 23), ('guava', 10, 23), ('mango', 5, 23)]\n",
    "\n",
    "for i, j, k in a:\n",
    "    print(i, j, k)"
   ]
  },
  {
   "cell_type": "code",
   "execution_count": null,
   "id": "9b0ea782",
   "metadata": {},
   "outputs": [],
   "source": [
    "#iterate i set and tuple"
   ]
  },
  {
   "cell_type": "code",
   "execution_count": 51,
   "id": "d4a1cc9b",
   "metadata": {},
   "outputs": [
    {
     "name": "stdout",
     "output_type": "stream",
     "text": [
      "apple 1 23\n",
      "banana 1 23\n",
      "guava 10 23\n",
      "mango 5 23\n"
     ]
    }
   ],
   "source": [
    "a = [('apple', 1, 23), ('banana', 1, 23), ('guava', 10, 23), ('mango', 5, 23)]\n",
    "\n",
    "for i, j , k in a:\n",
    "    print(i,j,k)"
   ]
  },
  {
   "cell_type": "code",
   "execution_count": null,
   "id": "427ec379",
   "metadata": {},
   "outputs": [],
   "source": []
  }
 ],
 "metadata": {
  "kernelspec": {
   "display_name": "Python 3 (ipykernel)",
   "language": "python",
   "name": "python3"
  },
  "language_info": {
   "codemirror_mode": {
    "name": "ipython",
    "version": 3
   },
   "file_extension": ".py",
   "mimetype": "text/x-python",
   "name": "python",
   "nbconvert_exporter": "python",
   "pygments_lexer": "ipython3",
   "version": "3.9.7"
  }
 },
 "nbformat": 4,
 "nbformat_minor": 5
}
